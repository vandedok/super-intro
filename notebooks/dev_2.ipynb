{
 "cells": [
  {
   "cell_type": "code",
   "execution_count": null,
   "metadata": {},
   "outputs": [],
   "source": [
    "import numpy as np\n",
    "import matplotlib.pyplot as plt\n",
    "from superintro.coco import COCOMaksProvider\n",
    "from superintro.vizinstanse import viz_instances"
   ]
  },
  {
   "cell_type": "code",
   "execution_count": null,
   "metadata": {},
   "outputs": [],
   "source": [
    "coco = COCOMaksProvider(\n",
    "    \"../../data/dev_2/coco/annotations_trainval2017/annotations/instances_val2017.json\",\n",
    "    \"../../data/dev_2/coco/val2017/\"\n",
    "    )\n",
    "\n"
   ]
  },
  {
   "cell_type": "code",
   "execution_count": null,
   "metadata": {},
   "outputs": [],
   "source": [
    "anns_ids = list(coco.anns.keys())[0:10]\n",
    "print(\"Several images ids:\")\n",
    "print([coco.anns[x][\"image_id\"] for x in anns_ids])"
   ]
  },
  {
   "cell_type": "code",
   "execution_count": null,
   "metadata": {},
   "outputs": [],
   "source": [
    "image, masks, labels = coco.get_images_and_masks(579321)\n",
    "scores = np.random.random(len(labels))*0.4 + 0.6"
   ]
  },
  {
   "cell_type": "code",
   "execution_count": null,
   "metadata": {},
   "outputs": [],
   "source": [
    "vis = viz_instances(\n",
    "    image,\n",
    "    labels,\n",
    "    masks=masks,\n",
    "    scores = scores,\n",
    "    font_size=40,\n",
    "    line_width=5,\n",
    "    alpha=0.3,\n",
    "    colormap=None\n",
    ")\n",
    "plt.figure(figsize=(10,10))\n",
    "plt.imshow(vis)"
   ]
  },
  {
   "cell_type": "code",
   "execution_count": null,
   "metadata": {},
   "outputs": [],
   "source": []
  }
 ],
 "metadata": {
  "interpreter": {
   "hash": "08eda236e6f6ec926d8fc86247b6fa38c418c4dd8bd05b9632b64c0486fee5fa"
  },
  "kernelspec": {
   "display_name": "Python 3.10.7 ('venv_supervisely')",
   "language": "python",
   "name": "python3"
  },
  "language_info": {
   "codemirror_mode": {
    "name": "ipython",
    "version": 3
   },
   "file_extension": ".py",
   "mimetype": "text/x-python",
   "name": "python",
   "nbconvert_exporter": "python",
   "pygments_lexer": "ipython3",
   "version": "3.10.7"
  },
  "orig_nbformat": 4
 },
 "nbformat": 4,
 "nbformat_minor": 2
}
