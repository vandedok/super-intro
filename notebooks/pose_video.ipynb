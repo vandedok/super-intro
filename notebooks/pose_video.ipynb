{
 "cells": [
  {
   "cell_type": "code",
   "execution_count": 1,
   "metadata": {},
   "outputs": [
    {
     "name": "stderr",
     "output_type": "stream",
     "text": [
      "/home/vandedok/Desktop/supervisely/venv_supervisely/lib64/python3.10/site-packages/mmcv/__init__.py:20: UserWarning: On January 1, 2023, MMCV will release v2.0.0, in which it will remove components related to the training process and add a data transformation module. In addition, it will rename the package names mmcv to mmcv-lite and mmcv-full to mmcv. See https://github.com/open-mmlab/mmcv/blob/master/docs/en/compatibility.md for more details.\n",
      "  warnings.warn(\n"
     ]
    }
   ],
   "source": [
    "import shutil as sh\n",
    "from superintro.pose import PoseDetector\n",
    "from moviepy.editor import VideoFileClip\n"
   ]
  },
  {
   "cell_type": "code",
   "execution_count": 2,
   "metadata": {},
   "outputs": [
    {
     "name": "stdout",
     "output_type": "stream",
     "text": [
      "load checkpoint from local path: ../../data/mmcv/mmpose/rsn50_coco_256x192-72ffe709_20201127.pth\n",
      "load checkpoint from local path: ../../data/mmcv/mmdet/fcos_r50_caffe_fpn_gn-head_mstrain_640-800_2x_coco-d92ceeea.pth\n"
     ]
    }
   ],
   "source": [
    "pose_detector = PoseDetector(\n",
    "    pose_config = '../../mmpose/configs/body/2d_kpt_sview_rgb_img/topdown_heatmap/coco/rsn50_coco_256x192.py',\n",
    "    pose_checkpoint = '../../data/mmcv/mmpose/rsn50_coco_256x192-72ffe709_20201127.pth',\n",
    "    det_config = '../../mmdetection/configs/fcos/fcos_r50_caffe_fpn_gn-head_mstrain_640-800_2x_coco.py',\n",
    "    det_checkpoint = '../../data/mmcv/mmdet/fcos_r50_caffe_fpn_gn-head_mstrain_640-800_2x_coco-d92ceeea.pth',\n",
    ")"
   ]
  },
  {
   "cell_type": "code",
   "execution_count": 4,
   "metadata": {},
   "outputs": [
    {
     "name": "stdout",
     "output_type": "stream",
     "text": [
      "Moviepy - Building video ../../data/cv_2/videos/output/pose_duel_of_fates.mp4.\n",
      "MoviePy - Writing audio in pose_duel_of_fatesTEMP_MPY_wvf_snd.mp3\n"
     ]
    },
    {
     "name": "stderr",
     "output_type": "stream",
     "text": [
      "                                                                 \r"
     ]
    },
    {
     "name": "stdout",
     "output_type": "stream",
     "text": [
      "MoviePy - Done.\n",
      "Moviepy - Writing video ../../data/cv_2/videos/output/pose_duel_of_fates.mp4\n",
      "\n"
     ]
    },
    {
     "name": "stderr",
     "output_type": "stream",
     "text": [
      "                                                            \r"
     ]
    },
    {
     "name": "stdout",
     "output_type": "stream",
     "text": [
      "Moviepy - Done !\n",
      "Moviepy - video ready ../../data/cv_2/videos/output/pose_duel_of_fates.mp4\n"
     ]
    }
   ],
   "source": [
    "input_video_path = \"../../data/cv_2/videos/input/duel_of_fates_cut.mp4\"\n",
    "output_video_path = \"../../data/cv_2/videos/output/pose_duel_of_fates.mp4\"\n",
    "\n",
    "clip = VideoFileClip(input_video_path)\n",
    "\n",
    "\n",
    "# inverting image\n",
    "final = clip.fl_image(pose_detector.detect_pose)\n",
    " \n",
    "# showing final clip\n",
    "final.write_videofile(output_video_path)"
   ]
  },
  {
   "cell_type": "code",
   "execution_count": null,
   "metadata": {},
   "outputs": [],
   "source": []
  }
 ],
 "metadata": {
  "interpreter": {
   "hash": "08eda236e6f6ec926d8fc86247b6fa38c418c4dd8bd05b9632b64c0486fee5fa"
  },
  "kernelspec": {
   "display_name": "Python 3.10.7 ('venv_supervisely')",
   "language": "python",
   "name": "python3"
  },
  "language_info": {
   "codemirror_mode": {
    "name": "ipython",
    "version": 3
   },
   "file_extension": ".py",
   "mimetype": "text/x-python",
   "name": "python",
   "nbconvert_exporter": "python",
   "pygments_lexer": "ipython3",
   "version": "3.10.7"
  },
  "orig_nbformat": 4
 },
 "nbformat": 4,
 "nbformat_minor": 2
}
