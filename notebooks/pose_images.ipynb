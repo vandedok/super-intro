{
 "cells": [
  {
   "cell_type": "code",
   "execution_count": null,
   "metadata": {},
   "outputs": [],
   "source": [
    "import os\n",
    "from pathlib import Path\n",
    "from tqdm.notebook import tqdm\n",
    "import matplotlib.pyplot as plt\n",
    "import cv2\n",
    "from superintro.pose import PoseDetector\n",
    "# from mmpose.apis import (inference_top_down_pose_model, init_pose_model,\n",
    "#                          vis_pose_result, process_mmdet_results)\n",
    "# from mmdet.apis import inference_detector, init_detector\n"
   ]
  },
  {
   "cell_type": "code",
   "execution_count": null,
   "metadata": {},
   "outputs": [],
   "source": [
    "output_dir = \"../../data/pose/output/imgs/\""
   ]
  },
  {
   "cell_type": "code",
   "execution_count": null,
   "metadata": {},
   "outputs": [],
   "source": [
    "pose_detector = PoseDetector(\n",
    "    pose_config = '../../mmpose/configs/body/2d_kpt_sview_rgb_img/topdown_heatmap/coco/hrnet_w48_coco_256x192.py',\n",
    "    pose_checkpoint = '../../data/mmcv/mmpose/hrnet_w48_coco_256x192-b9e0b3ab_20200708.pth',\n",
    "    det_config = '../../mmdetection/configs/fcos/fcos_r50_caffe_fpn_gn-head_mstrain_640-800_2x_coco.py',\n",
    "    det_checkpoint = '../../data/mmcv/mmdet/fcos_r50_caffe_fpn_gn-head_mstrain_640-800_2x_coco-d92ceeea.pth',\n",
    ")"
   ]
  },
  {
   "cell_type": "code",
   "execution_count": null,
   "metadata": {},
   "outputs": [],
   "source": [
    "imgs_dir = Path(\"../../data/imgs/\")\n",
    "exts = (\".jpg\", \".png\")\n",
    "\n",
    "img_paths = [str(x)  for x in imgs_dir.glob(\"*\") for ext  in exts if x.name.endswith(ext)]\n",
    "imgs = [cv2.imread(x) for x in img_paths]\n",
    "\n",
    "imgs_with_poses=[]\n",
    "for img in tqdm(imgs):\n",
    "    img_with_pose = pose_detector.detect_pose(img)\n",
    "    imgs_with_poses.append(img_with_pose)\n"
   ]
  },
  {
   "cell_type": "code",
   "execution_count": null,
   "metadata": {},
   "outputs": [],
   "source": [
    "fig, axs = plt.subplots( len(imgs),1, figsize=(30*len(imgs), 30))\n",
    "fig.tight_layout()\n",
    "for img_with_pose, ax, img_path in zip(imgs_with_poses, axs, img_paths):\n",
    "    ax.imshow(img_with_pose[:,:,::-1])\n",
    "    ax.tick_params(left=False, bottom=False, labelbottom=False, labelleft=False)\n",
    "    cv2.imwrite(\n",
    "        os.path.join(\n",
    "            output_dir,\n",
    "            \"pose_\" + os.path.basename(img_path)\n",
    "        ),\n",
    "        img_with_pose\n",
    "    )"
   ]
  },
  {
   "cell_type": "code",
   "execution_count": null,
   "metadata": {},
   "outputs": [],
   "source": [
    "# img = '../../mmpose/tests/data/coco/000000196141.jpg'\n",
    "\n",
    "vis_results = []\n",
    "for img in imgs:\n",
    "    # inference detection\n",
    "    mmdet_results = inference_detector(det_model, img)\n",
    "\n",
    "    # extract person (COCO_ID=1) bounding boxes from the detection results\n",
    "    person_results = process_mmdet_results(mmdet_results, cat_id=1)\n",
    "\n",
    "    # inference pose\n",
    "    pose_results, returned_outputs = inference_top_down_pose_model(\n",
    "        pose_model,\n",
    "        img,\n",
    "        person_results,\n",
    "        bbox_thr=0.3,\n",
    "        format='xyxy',\n",
    "        dataset=pose_model.cfg.data.test.type)\n",
    "\n",
    "    \n",
    "    vis_result = vis_pose_result(\n",
    "        pose_model,\n",
    "        img,\n",
    "        pose_results,\n",
    "        dataset=pose_model.cfg.data.test.type,\n",
    "        show=False)\n",
    "\n",
    "    vis_results.append(vis_result)\n"
   ]
  },
  {
   "cell_type": "code",
   "execution_count": null,
   "metadata": {},
   "outputs": [],
   "source": [
    "from pytube import YouTube\n",
    "import math\n",
    "\n",
    "link = \"https://www.youtube.com/watch?v=3mJFjNu51IQ\"\n",
    "yt = YouTube(link)\n",
    "\n"
   ]
  },
  {
   "cell_type": "code",
   "execution_count": null,
   "metadata": {},
   "outputs": [],
   "source": [
    "video.streams.first().download(output_path=\"../../data/output\")"
   ]
  },
  {
   "cell_type": "code",
   "execution_count": null,
   "metadata": {},
   "outputs": [],
   "source": [
    "\n",
    "yt.streams.order_by('resolution')[-1].download(output_path=\"../../data/output\")"
   ]
  },
  {
   "cell_type": "code",
   "execution_count": null,
   "metadata": {},
   "outputs": [],
   "source": [
    "video.streams.filter(resolution=\"720p\").first().download(output_path=\"../../data/output\")"
   ]
  },
  {
   "cell_type": "code",
   "execution_count": null,
   "metadata": {},
   "outputs": [],
   "source": [
    "for stream in video.streams:\n",
    "    print(stream)"
   ]
  },
  {
   "cell_type": "code",
   "execution_count": null,
   "metadata": {},
   "outputs": [],
   "source": [
    "video = cv2.VideoCapture('../../data/output/Qui-Gon & Obi-Wan vs Darth Maul - Duel of the Fates  Star Wars The Phantom Menace (1999) Movie Clip.mp4')\n"
   ]
  },
  {
   "cell_type": "code",
   "execution_count": null,
   "metadata": {},
   "outputs": [],
   "source": [
    "video.set(cv2.CAP_PROP_POS_FRAMES, 10)\n",
    "ret, frame = video.read()"
   ]
  },
  {
   "cell_type": "code",
   "execution_count": null,
   "metadata": {},
   "outputs": [],
   "source": [
    "fps = video.get(cv2.CAP_PROP_FPS)\n",
    "width = video.get(cv2.CAP_PROP_FRAME_WIDTH)\n",
    "heigth = video.get(cv2.CAP_PROP_FRAME_WIDTH)"
   ]
  },
  {
   "cell_type": "code",
   "execution_count": null,
   "metadata": {},
   "outputs": [],
   "source": [
    "plt.imshow(frame)"
   ]
  },
  {
   "cell_type": "code",
   "execution_count": null,
   "metadata": {},
   "outputs": [],
   "source": [
    "video.get(cv2.CAP_PROP_FRAME_WIDTH)"
   ]
  },
  {
   "cell_type": "code",
   "execution_count": null,
   "metadata": {},
   "outputs": [],
   "source": [
    "video.get(cv2.CAP_PROP_FRAME_HEIGHT)"
   ]
  },
  {
   "cell_type": "code",
   "execution_count": null,
   "metadata": {},
   "outputs": [],
   "source": []
  }
 ],
 "metadata": {
  "kernelspec": {
   "display_name": "Python 3 (ipykernel)",
   "language": "python",
   "name": "python3"
  },
  "language_info": {
   "codemirror_mode": {
    "name": "ipython",
    "version": 3
   },
   "file_extension": ".py",
   "mimetype": "text/x-python",
   "name": "python",
   "nbconvert_exporter": "python",
   "pygments_lexer": "ipython3",
   "version": "3.10.6"
  },
  "vscode": {
   "interpreter": {
    "hash": "08eda236e6f6ec926d8fc86247b6fa38c418c4dd8bd05b9632b64c0486fee5fa"
   }
  }
 },
 "nbformat": 4,
 "nbformat_minor": 4
}
