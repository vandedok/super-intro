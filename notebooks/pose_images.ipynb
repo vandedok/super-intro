{
 "cells": [
  {
   "cell_type": "code",
   "execution_count": null,
   "metadata": {},
   "outputs": [],
   "source": [
    "import os\n",
    "from pathlib import Path\n",
    "from tqdm import tqdm\n",
    "import matplotlib.pyplot as plt\n",
    "import cv2\n",
    "from superintro.pose import PoseDetector\n"
   ]
  },
  {
   "cell_type": "code",
   "execution_count": null,
   "metadata": {},
   "outputs": [],
   "source": [
    "output_dir = \"../../data/pose/output/imgs/\""
   ]
  },
  {
   "cell_type": "code",
   "execution_count": null,
   "metadata": {},
   "outputs": [],
   "source": [
    "pose_detector = PoseDetector(\n",
    "    pose_config = '../../mmpose/configs/body/2d_kpt_sview_rgb_img/topdown_heatmap/coco/rsn50_coco_256x192.py',\n",
    "    pose_checkpoint = '../../data/mmcv/mmpose/rsn50_coco_256x192-72ffe709_20201127.pth',\n",
    "    det_config = '../../mmdetection/configs/fcos/fcos_r50_caffe_fpn_gn-head_mstrain_640-800_2x_coco.py',\n",
    "    det_checkpoint = '../../data/mmcv/mmdet/fcos_r50_caffe_fpn_gn-head_mstrain_640-800_2x_coco-d92ceeea.pth',\n",
    ")"
   ]
  },
  {
   "cell_type": "code",
   "execution_count": null,
   "metadata": {},
   "outputs": [],
   "source": [
    "imgs_dir = Path(\"../../data/cv_2/imgs/input\")\n",
    "exts = (\".jpg\", \".png\")\n",
    "\n",
    "img_paths = [str(x)  for x in imgs_dir.glob(\"*\") for ext  in exts if x.name.endswith(ext)]\n",
    "imgs = [cv2.imread(x) for x in img_paths]\n",
    "\n",
    "imgs_with_poses=[]\n",
    "for img in tqdm(imgs):\n",
    "    img_with_pose = pose_detector.detect_pose(img)\n",
    "    imgs_with_poses.append(img_with_pose)\n"
   ]
  },
  {
   "cell_type": "code",
   "execution_count": null,
   "metadata": {},
   "outputs": [],
   "source": [
    "output_dir = \"../../data/cv_2/output/\"\n",
    "fig, axs = plt.subplots( len(imgs),1, figsize=(30*len(imgs), 30))\n",
    "fig.tight_layout()\n",
    "for img_with_pose, ax, img_path in zip(imgs_with_poses, axs, img_paths):\n",
    "    ax.imshow(img_with_pose[:,:,::-1])\n",
    "    ax.tick_params(left=False, bottom=False, labelbottom=False, labelleft=False)\n",
    "    cv2.imwrite(\n",
    "        os.path.join(\n",
    "            output_dir,\n",
    "            \"pose_\" + os.path.basename(img_path)\n",
    "        ),\n",
    "        img_with_pose\n",
    "    )"
   ]
  }
 ],
 "metadata": {
  "kernelspec": {
   "display_name": "Python 3 (ipykernel)",
   "language": "python",
   "name": "python3"
  },
  "language_info": {
   "codemirror_mode": {
    "name": "ipython",
    "version": 3
   },
   "file_extension": ".py",
   "mimetype": "text/x-python",
   "name": "python",
   "nbconvert_exporter": "python",
   "pygments_lexer": "ipython3",
   "version": "3.10.7"
  },
  "vscode": {
   "interpreter": {
    "hash": "08eda236e6f6ec926d8fc86247b6fa38c418c4dd8bd05b9632b64c0486fee5fa"
   }
  }
 },
 "nbformat": 4,
 "nbformat_minor": 4
}
